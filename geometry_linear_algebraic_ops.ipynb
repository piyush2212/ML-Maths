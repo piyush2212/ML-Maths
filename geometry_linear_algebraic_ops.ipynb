{
  "cells": [
    {
      "source": [
        "\n",
        "#Initialising Libraries\n",
        "%matplotlib inline\n",
        "import matplotlib.pyplot as plt\n",
        "import torch\n",
        "import torchvision\n",
        "from IPython import display\n",
        "from torchvision import transforms\n"
      ],
      "cell_type": "code",
      "metadata": {
        "id": "yxbF1YpsF0_O"
      },
      "id": "yxbF1YpsF0_O",
      "execution_count": 2,
      "outputs": []
    },
    {
      "cell_type": "code",
      "execution_count": 3,
      "id": "c68a6de0",
      "metadata": {
        "execution": {
          "iopub.execute_input": "2023-08-18T19:30:00.068681Z",
          "iopub.status.busy": "2023-08-18T19:30:00.068407Z",
          "iopub.status.idle": "2023-08-18T19:30:03.242521Z",
          "shell.execute_reply": "2023-08-18T19:30:03.241359Z"
        },
        "origin_pos": 4,
        "tab": [
          "pytorch"
        ],
        "id": "c68a6de0",
        "outputId": "ec95ff27-9532-4b9e-c628-271ebd46c7c8",
        "colab": {
          "base_uri": "https://localhost:8080/"
        }
      },
      "outputs": [
        {
          "output_type": "execute_result",
          "data": {
            "text/plain": [
              "tensor(0.4190)"
            ]
          },
          "metadata": {},
          "execution_count": 3
        }
      ],
      "source": [
        "# Function to find angle between two tensors\n",
        "def angle(v, w):\n",
        "    return torch.acos(v.dot(w) / (torch.norm(v) * torch.norm(w)))\n",
        "\n",
        "angle(torch.tensor([0, 1, 2], dtype=torch.float32), torch.tensor([2.0, 3, 4]))"
      ]
    },
    {
      "cell_type": "code",
      "execution_count": 4,
      "id": "6181ed73",
      "metadata": {
        "execution": {
          "iopub.execute_input": "2023-08-18T19:30:03.247622Z",
          "iopub.status.busy": "2023-08-18T19:30:03.246701Z",
          "iopub.status.idle": "2023-08-18T19:30:28.056683Z",
          "shell.execute_reply": "2023-08-18T19:30:28.055314Z"
        },
        "origin_pos": 8,
        "tab": [
          "pytorch"
        ],
        "id": "6181ed73",
        "outputId": "bfaf8202-d684-4d18-a4dd-aed53e3064e3",
        "colab": {
          "base_uri": "https://localhost:8080/",
          "height": 501
        }
      },
      "outputs": [
        {
          "output_type": "stream",
          "name": "stderr",
          "text": [
            "100%|██████████| 26.4M/26.4M [00:01<00:00, 20.0MB/s]\n",
            "100%|██████████| 29.5k/29.5k [00:00<00:00, 296kB/s]\n",
            "100%|██████████| 4.42M/4.42M [00:00<00:00, 5.62MB/s]\n",
            "100%|██████████| 5.15k/5.15k [00:00<00:00, 10.0MB/s]\n"
          ]
        },
        {
          "output_type": "display_data",
          "data": {
            "text/plain": [
              "<Figure size 640x480 with 1 Axes>"
            ],
            "image/png": "[encoded data removed]"
          },
          "metadata": {}
        }
      ],
      "source": [
        "# Plotting average vectors of Fashion-MNIST class\n",
        "\n",
        "trans = []\n",
        "trans.append(transforms.ToTensor())\n",
        "trans = transforms.Compose(trans)\n",
        "train = torchvision.datasets.FashionMNIST(root=\"../data\", transform=trans,\n",
        "                                          train=True, download=True)\n",
        "test = torchvision.datasets.FashionMNIST(root=\"../data\", transform=trans,\n",
        "                                         train=False, download=True)\n",
        "\n",
        "X_train_0 = torch.stack(\n",
        "    [x[0] * 256 for x in train if x[1] == 0]).type(torch.float32)\n",
        "X_train_1 = torch.stack(\n",
        "    [x[0] * 256 for x in train if x[1] == 1]).type(torch.float32)\n",
        "X_test = torch.stack(\n",
        "    [x[0] * 256 for x in test if x[1] == 0 or x[1] == 1]).type(torch.float32)\n",
        "y_test = torch.stack([torch.tensor(x[1]) for x in test\n",
        "                      if x[1] == 0 or x[1] == 1]).type(torch.float32)\n",
        "\n",
        "# Compute averages\n",
        "ave_0 = torch.mean(X_train_0, axis=0)\n",
        "ave_1 = torch.mean(X_train_1, axis=0)\n",
        "\n",
        "# Plot average T-shirt\n",
        "image = ave_0.reshape(28, 28).cpu().numpy()\n",
        "plt.imshow(image, cmap='Greys')\n",
        "plt.show()"
      ]
    },
    {
      "cell_type": "code",
      "execution_count": 5,
      "id": "909256ed",
      "metadata": {
        "execution": {
          "iopub.execute_input": "2023-08-18T19:30:28.247745Z",
          "iopub.status.busy": "2023-08-18T19:30:28.246995Z",
          "iopub.status.idle": "2023-08-18T19:30:28.422205Z",
          "shell.execute_reply": "2023-08-18T19:30:28.421098Z"
        },
        "origin_pos": 14,
        "tab": [
          "pytorch"
        ],
        "id": "909256ed",
        "outputId": "e4bead45-2658-4461-f490-46c74e172b2a",
        "colab": {
          "base_uri": "https://localhost:8080/",
          "height": 430
        }
      },
      "outputs": [
        {
          "output_type": "display_data",
          "data": {
            "text/plain": [
              "<Figure size 640x480 with 1 Axes>"
            ],
            "image/png": "[encoded data removed]"
          },
          "metadata": {}
        }
      ],
      "source": [
        "# Plot average trousers\n",
        "image = ave_1.reshape(28, 28).cpu().numpy()\n",
        "plt.imshow(image, cmap='Greys')\n",
        "plt.show()"
      ]
    },
    {
      "cell_type": "code",
      "execution_count": 6,
      "id": "608ae3a7",
      "metadata": {
        "execution": {
          "iopub.execute_input": "2023-08-18T19:30:28.426733Z",
          "iopub.status.busy": "2023-08-18T19:30:28.425880Z",
          "iopub.status.idle": "2023-08-18T19:30:28.442336Z",
          "shell.execute_reply": "2023-08-18T19:30:28.440892Z"
        },
        "origin_pos": 18,
        "tab": [
          "pytorch"
        ],
        "id": "608ae3a7",
        "outputId": "1051f34b-df74-46cf-e1cd-ca6005f18f5c",
        "colab": {
          "base_uri": "https://localhost:8080/"
        }
      },
      "outputs": [
        {
          "output_type": "stream",
          "name": "stderr",
          "text": [
            "<ipython-input-6-508361858935>:2: UserWarning: The use of `x.T` on tensors of dimension other than 2 to reverse their shape is deprecated and it will throw an error in a future release. Consider `x.mT` to transpose batches of matrices or `x.permute(*torch.arange(x.ndim - 1, -1, -1))` to reverse the dimensions of a tensor. (Triggered internally at /pytorch/aten/src/ATen/native/TensorShape.cpp:3725.)\n",
            "  w = (ave_1 - ave_0).T\n"
          ]
        },
        {
          "output_type": "execute_result",
          "data": {
            "text/plain": [
              "tensor(0.7775, dtype=torch.float64)"
            ]
          },
          "metadata": {},
          "execution_count": 6
        }
      ],
      "source": [
        "#Classification Accuracy\n",
        "w = (ave_1 - ave_0).T\n",
        "predictions = X_test.reshape(2000, -1) @ (w.flatten()) > -2000000\n",
        "\n",
        "torch.mean((predictions.type(y_test.dtype) == y_test).float(), dtype=torch.float64)"
      ]
    },
    {
      "cell_type": "code",
      "execution_count": 7,
      "id": "42a61cd7",
      "metadata": {
        "execution": {
          "iopub.execute_input": "2023-08-18T19:30:28.460420Z",
          "iopub.status.busy": "2023-08-18T19:30:28.459512Z",
          "iopub.status.idle": "2023-08-18T19:30:28.468439Z",
          "shell.execute_reply": "2023-08-18T19:30:28.467020Z"
        },
        "origin_pos": 26,
        "tab": [
          "pytorch"
        ],
        "id": "42a61cd7",
        "outputId": "d6f8c966-5358-42c7-d02c-d1e7f196a33f",
        "colab": {
          "base_uri": "https://localhost:8080/"
        }
      },
      "outputs": [
        {
          "output_type": "execute_result",
          "data": {
            "text/plain": [
              "tensor(5.)"
            ]
          },
          "metadata": {},
          "execution_count": 7
        }
      ],
      "source": [
        "#Calculating Determinant of a Tensor\n",
        "torch.det(torch.tensor([[1, -1], [2, 3]], dtype=torch.float32))"
      ]
    },
    {
      "cell_type": "code",
      "execution_count": 8,
      "id": "60092e5c",
      "metadata": {
        "execution": {
          "iopub.execute_input": "2023-08-18T19:30:28.472962Z",
          "iopub.status.busy": "2023-08-18T19:30:28.471989Z",
          "iopub.status.idle": "2023-08-18T19:30:28.482336Z",
          "shell.execute_reply": "2023-08-18T19:30:28.481119Z"
        },
        "origin_pos": 30,
        "tab": [
          "pytorch"
        ],
        "id": "60092e5c",
        "outputId": "d8652a5c-db84-4f76-ac54-fa66534606a9",
        "colab": {
          "base_uri": "https://localhost:8080/"
        }
      },
      "outputs": [
        {
          "output_type": "execute_result",
          "data": {
            "text/plain": [
              "(torch.Size([2, 2]), torch.Size([2, 2, 3]), torch.Size([2]))"
            ]
          },
          "metadata": {},
          "execution_count": 8
        }
      ],
      "source": [
        "# Defining tensors\n",
        "B = torch.tensor([[[1, 2, 3], [4, 5, 6]], [[7, 8, 9], [10, 11, 12]]])\n",
        "A = torch.tensor([[1, 2], [3, 4]])\n",
        "v = torch.tensor([1, 2])\n",
        "\n",
        "# Print out the shapes\n",
        "A.shape, B.shape, v.shape"
      ]
    },
    {
      "cell_type": "code",
      "execution_count": 9,
      "id": "0b47b53c",
      "metadata": {
        "execution": {
          "iopub.execute_input": "2023-08-18T19:30:28.487310Z",
          "iopub.status.busy": "2023-08-18T19:30:28.486600Z",
          "iopub.status.idle": "2023-08-18T19:30:28.493572Z",
          "shell.execute_reply": "2023-08-18T19:30:28.492583Z"
        },
        "origin_pos": 34,
        "tab": [
          "pytorch"
        ],
        "id": "0b47b53c",
        "outputId": "2d865dba-7160-4f99-b1e6-e19fed22305b",
        "colab": {
          "base_uri": "https://localhost:8080/"
        }
      },
      "outputs": [
        {
          "output_type": "execute_result",
          "data": {
            "text/plain": [
              "(tensor([ 5, 11]), tensor([ 5, 11]))"
            ]
          },
          "metadata": {},
          "execution_count": 9
        }
      ],
      "source": [
        "# Reimplement matrix multiplication and einstein sum\n",
        "torch.einsum(\"ij, j -> i\", A, v), A@v"
      ]
    },
    {
      "cell_type": "code",
      "execution_count": 10,
      "id": "ba403495",
      "metadata": {
        "execution": {
          "iopub.execute_input": "2023-08-18T19:30:28.498150Z",
          "iopub.status.busy": "2023-08-18T19:30:28.497621Z",
          "iopub.status.idle": "2023-08-18T19:30:28.507270Z",
          "shell.execute_reply": "2023-08-18T19:30:28.506042Z"
        },
        "origin_pos": 38,
        "tab": [
          "pytorch"
        ],
        "id": "ba403495",
        "outputId": "cd71ceab-f628-4687-cb70-83bf25f88984",
        "colab": {
          "base_uri": "https://localhost:8080/"
        }
      },
      "outputs": [
        {
          "output_type": "execute_result",
          "data": {
            "text/plain": [
              "tensor([[ 90, 126],\n",
              "        [102, 144],\n",
              "        [114, 162]])"
            ]
          },
          "metadata": {},
          "execution_count": 10
        }
      ],
      "source": [
        "torch.einsum(\"ijk, il, j -> kl\", B, A, v)"
      ]
    }
  ],
  "metadata": {
    "kernelspec": {
      "display_name": "Python 3",
      "name": "python3"
    },
    "language_info": {
      "name": "python"
    },
    "required_libs": [],
    "colab": {
      "provenance": []
    }
  },
  "nbformat": 4,
  "nbformat_minor": 5
}